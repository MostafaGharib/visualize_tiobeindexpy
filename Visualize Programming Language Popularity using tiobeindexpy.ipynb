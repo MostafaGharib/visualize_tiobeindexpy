{
 "cells": [
  {
   "cell_type": "code",
   "execution_count": 1,
   "metadata": {},
   "outputs": [],
   "source": [
    "from tiobeindexpy import tiobeindexpy as tbpy"
   ]
  },
  {
   "cell_type": "code",
   "execution_count": 2,
   "metadata": {},
   "outputs": [],
   "source": [
    "import seaborn as sns"
   ]
  },
  {
   "cell_type": "code",
   "execution_count": 3,
   "metadata": {},
   "outputs": [],
   "source": [
    "sns.set(style = \"whitegrid\")\n",
    "sns.set(rc={'figure.figsize':(11.7,8.27)})"
   ]
  },
  {
   "cell_type": "code",
   "execution_count": 6,
   "metadata": {},
   "outputs": [],
   "source": [
    "top_20 = tbpy.top_20()"
   ]
  },
  {
   "cell_type": "code",
   "execution_count": 7,
   "metadata": {},
   "outputs": [
    {
     "data": {
      "text/html": [
       "<div>\n",
       "<style scoped>\n",
       "    .dataframe tbody tr th:only-of-type {\n",
       "        vertical-align: middle;\n",
       "    }\n",
       "\n",
       "    .dataframe tbody tr th {\n",
       "        vertical-align: top;\n",
       "    }\n",
       "\n",
       "    .dataframe thead th {\n",
       "        text-align: right;\n",
       "    }\n",
       "</style>\n",
       "<table border=\"1\" class=\"dataframe\">\n",
       "  <thead>\n",
       "    <tr style=\"text-align: right;\">\n",
       "      <th></th>\n",
       "      <th>Mar 2019</th>\n",
       "      <th>Mar 2018</th>\n",
       "      <th>Change</th>\n",
       "      <th>Programming Language</th>\n",
       "      <th>Ratings</th>\n",
       "      <th>Change.1</th>\n",
       "    </tr>\n",
       "  </thead>\n",
       "  <tbody>\n",
       "    <tr>\n",
       "      <th>0</th>\n",
       "      <td>1</td>\n",
       "      <td>1</td>\n",
       "      <td>NaN</td>\n",
       "      <td>Java</td>\n",
       "      <td>14.880%</td>\n",
       "      <td>-0.06%</td>\n",
       "    </tr>\n",
       "    <tr>\n",
       "      <th>1</th>\n",
       "      <td>2</td>\n",
       "      <td>2</td>\n",
       "      <td>NaN</td>\n",
       "      <td>C</td>\n",
       "      <td>13.305%</td>\n",
       "      <td>+0.55%</td>\n",
       "    </tr>\n",
       "    <tr>\n",
       "      <th>2</th>\n",
       "      <td>3</td>\n",
       "      <td>4</td>\n",
       "      <td>NaN</td>\n",
       "      <td>Python</td>\n",
       "      <td>8.262%</td>\n",
       "      <td>+2.39%</td>\n",
       "    </tr>\n",
       "    <tr>\n",
       "      <th>3</th>\n",
       "      <td>4</td>\n",
       "      <td>3</td>\n",
       "      <td>NaN</td>\n",
       "      <td>C++</td>\n",
       "      <td>8.126%</td>\n",
       "      <td>+1.67%</td>\n",
       "    </tr>\n",
       "    <tr>\n",
       "      <th>4</th>\n",
       "      <td>5</td>\n",
       "      <td>6</td>\n",
       "      <td>NaN</td>\n",
       "      <td>Visual Basic .NET</td>\n",
       "      <td>6.429%</td>\n",
       "      <td>+2.34%</td>\n",
       "    </tr>\n",
       "    <tr>\n",
       "      <th>5</th>\n",
       "      <td>6</td>\n",
       "      <td>5</td>\n",
       "      <td>NaN</td>\n",
       "      <td>C#</td>\n",
       "      <td>3.267%</td>\n",
       "      <td>-1.80%</td>\n",
       "    </tr>\n",
       "    <tr>\n",
       "      <th>6</th>\n",
       "      <td>7</td>\n",
       "      <td>8</td>\n",
       "      <td>NaN</td>\n",
       "      <td>JavaScript</td>\n",
       "      <td>2.426%</td>\n",
       "      <td>-1.49%</td>\n",
       "    </tr>\n",
       "    <tr>\n",
       "      <th>7</th>\n",
       "      <td>8</td>\n",
       "      <td>7</td>\n",
       "      <td>NaN</td>\n",
       "      <td>PHP</td>\n",
       "      <td>2.420%</td>\n",
       "      <td>-1.59%</td>\n",
       "    </tr>\n",
       "    <tr>\n",
       "      <th>8</th>\n",
       "      <td>9</td>\n",
       "      <td>10</td>\n",
       "      <td>NaN</td>\n",
       "      <td>SQL</td>\n",
       "      <td>1.926%</td>\n",
       "      <td>-0.76%</td>\n",
       "    </tr>\n",
       "    <tr>\n",
       "      <th>9</th>\n",
       "      <td>10</td>\n",
       "      <td>14</td>\n",
       "      <td>NaN</td>\n",
       "      <td>Objective-C</td>\n",
       "      <td>1.681%</td>\n",
       "      <td>-0.09%</td>\n",
       "    </tr>\n",
       "    <tr>\n",
       "      <th>10</th>\n",
       "      <td>11</td>\n",
       "      <td>18</td>\n",
       "      <td>NaN</td>\n",
       "      <td>MATLAB</td>\n",
       "      <td>1.469%</td>\n",
       "      <td>+0.06%</td>\n",
       "    </tr>\n",
       "    <tr>\n",
       "      <th>11</th>\n",
       "      <td>12</td>\n",
       "      <td>16</td>\n",
       "      <td>NaN</td>\n",
       "      <td>Assembly language</td>\n",
       "      <td>1.413%</td>\n",
       "      <td>-0.29%</td>\n",
       "    </tr>\n",
       "    <tr>\n",
       "      <th>12</th>\n",
       "      <td>13</td>\n",
       "      <td>11</td>\n",
       "      <td>NaN</td>\n",
       "      <td>Perl</td>\n",
       "      <td>1.302%</td>\n",
       "      <td>-0.93%</td>\n",
       "    </tr>\n",
       "    <tr>\n",
       "      <th>13</th>\n",
       "      <td>14</td>\n",
       "      <td>20</td>\n",
       "      <td>NaN</td>\n",
       "      <td>R</td>\n",
       "      <td>1.278%</td>\n",
       "      <td>+0.15%</td>\n",
       "    </tr>\n",
       "    <tr>\n",
       "      <th>14</th>\n",
       "      <td>15</td>\n",
       "      <td>9</td>\n",
       "      <td>NaN</td>\n",
       "      <td>Ruby</td>\n",
       "      <td>1.202%</td>\n",
       "      <td>-1.54%</td>\n",
       "    </tr>\n",
       "    <tr>\n",
       "      <th>15</th>\n",
       "      <td>16</td>\n",
       "      <td>60</td>\n",
       "      <td>NaN</td>\n",
       "      <td>Groovy</td>\n",
       "      <td>1.178%</td>\n",
       "      <td>+1.04%</td>\n",
       "    </tr>\n",
       "    <tr>\n",
       "      <th>16</th>\n",
       "      <td>17</td>\n",
       "      <td>12</td>\n",
       "      <td>NaN</td>\n",
       "      <td>Swift</td>\n",
       "      <td>1.158%</td>\n",
       "      <td>-0.99%</td>\n",
       "    </tr>\n",
       "    <tr>\n",
       "      <th>17</th>\n",
       "      <td>18</td>\n",
       "      <td>17</td>\n",
       "      <td>NaN</td>\n",
       "      <td>Go</td>\n",
       "      <td>1.016%</td>\n",
       "      <td>-0.43%</td>\n",
       "    </tr>\n",
       "    <tr>\n",
       "      <th>18</th>\n",
       "      <td>19</td>\n",
       "      <td>13</td>\n",
       "      <td>NaN</td>\n",
       "      <td>Delphi/Object Pascal</td>\n",
       "      <td>1.012%</td>\n",
       "      <td>-0.78%</td>\n",
       "    </tr>\n",
       "    <tr>\n",
       "      <th>19</th>\n",
       "      <td>20</td>\n",
       "      <td>15</td>\n",
       "      <td>NaN</td>\n",
       "      <td>Visual Basic</td>\n",
       "      <td>0.954%</td>\n",
       "      <td>-0.79%</td>\n",
       "    </tr>\n",
       "  </tbody>\n",
       "</table>\n",
       "</div>"
      ],
      "text/plain": [
       "    Mar 2019  Mar 2018  Change  Programming Language  Ratings Change.1\n",
       "0          1         1     NaN                  Java  14.880%   -0.06%\n",
       "1          2         2     NaN                     C  13.305%   +0.55%\n",
       "2          3         4     NaN                Python   8.262%   +2.39%\n",
       "3          4         3     NaN                   C++   8.126%   +1.67%\n",
       "4          5         6     NaN     Visual Basic .NET   6.429%   +2.34%\n",
       "5          6         5     NaN                    C#   3.267%   -1.80%\n",
       "6          7         8     NaN            JavaScript   2.426%   -1.49%\n",
       "7          8         7     NaN                   PHP   2.420%   -1.59%\n",
       "8          9        10     NaN                   SQL   1.926%   -0.76%\n",
       "9         10        14     NaN           Objective-C   1.681%   -0.09%\n",
       "10        11        18     NaN                MATLAB   1.469%   +0.06%\n",
       "11        12        16     NaN     Assembly language   1.413%   -0.29%\n",
       "12        13        11     NaN                  Perl   1.302%   -0.93%\n",
       "13        14        20     NaN                     R   1.278%   +0.15%\n",
       "14        15         9     NaN                  Ruby   1.202%   -1.54%\n",
       "15        16        60     NaN                Groovy   1.178%   +1.04%\n",
       "16        17        12     NaN                 Swift   1.158%   -0.99%\n",
       "17        18        17     NaN                    Go   1.016%   -0.43%\n",
       "18        19        13     NaN  Delphi/Object Pascal   1.012%   -0.78%\n",
       "19        20        15     NaN          Visual Basic   0.954%   -0.79%"
      ]
     },
     "execution_count": 7,
     "metadata": {},
     "output_type": "execute_result"
    }
   ],
   "source": [
    "top_20"
   ]
  },
  {
   "cell_type": "code",
   "execution_count": 8,
   "metadata": {},
   "outputs": [],
   "source": [
    "top_20['Ratings'] = top_20.loc[:,'Ratings'].apply(lambda x: float(x.strip(\"%\")))"
   ]
  },
  {
   "cell_type": "markdown",
   "metadata": {},
   "source": [
    "### Top 20 Based on Ratings"
   ]
  },
  {
   "cell_type": "code",
   "execution_count": 10,
   "metadata": {},
   "outputs": [
    {
     "data": {
      "text/plain": [
       "Text(0.5,1,'Mar 2019 - Programming Popularity')"
      ]
     },
     "execution_count": 10,
     "metadata": {},
     "output_type": "execute_result"
    },
    {
     "data": {
      "image/png": "[encoded data removed]",
      "text/plain": [
       "<Figure size 842.4x595.44 with 1 Axes>"
      ]
     },
     "metadata": {},
     "output_type": "display_data"
    }
   ],
   "source": [
    "sns.barplot('Ratings', 'Programming Language', data = top_20).set_title('Mar 2019 - Programming Popularity')"
   ]
  },
  {
   "cell_type": "markdown",
   "metadata": {},
   "source": [
    "### Biggest Gainers in a month (from Top 20)"
   ]
  },
  {
   "cell_type": "code",
   "execution_count": 11,
   "metadata": {},
   "outputs": [],
   "source": [
    "top_20['Change.1'] = top_20.loc[:,'Change.1'].apply(lambda x: float(x.strip(\"%\")))"
   ]
  },
  {
   "cell_type": "code",
   "execution_count": 12,
   "metadata": {},
   "outputs": [
    {
     "data": {
      "text/plain": [
       "Text(0.5,1,'Mar 2018 vs 2019 - Language Popularity - Biggest Gainers from Top 20')"
      ]
     },
     "execution_count": 12,
     "metadata": {},
     "output_type": "execute_result"
    },
    {
     "data": {
      "image/png": "[encoded data removed]",
      "text/plain": [
       "<Figure size 842.4x595.44 with 1 Axes>"
      ]
     },
     "metadata": {},
     "output_type": "display_data"
    }
   ],
   "source": [
    "sns.barplot('Programming Language', 'Change.1', \n",
    "            data = top_20.sort_values(\"Change.1\",ascending = False)[0:5]).set_title('Mar 2018 vs 2019 - Language Popularity - Biggest Gainers from Top 20')"
   ]
  },
  {
   "cell_type": "markdown",
   "metadata": {},
   "source": [
    "### Biggest Gainers in a month (from Top 20)"
   ]
  },
  {
   "cell_type": "code",
   "execution_count": 13,
   "metadata": {},
   "outputs": [
    {
     "data": {
      "text/plain": [
       "Text(0.5,1,'Mar 2018 vs 2019 - Language Popularity - Biggest Losers from Top 20')"
      ]
     },
     "execution_count": 13,
     "metadata": {},
     "output_type": "execute_result"
    },
    {
     "data": {
      "image/png": "[encoded data removed]",
      "text/plain": [
       "<Figure size 842.4x595.44 with 1 Axes>"
      ]
     },
     "metadata": {},
     "output_type": "display_data"
    }
   ],
   "source": [
    "sns.barplot('Change.1', 'Programming Language', \n",
    "            data = top_20.sort_values(\"Change.1\",ascending = True)[0:5]).set_title('Mar 2018 vs 2019 - Language Popularity - Biggest Losers from Top 20')"
   ]
  },
  {
   "cell_type": "markdown",
   "metadata": {},
   "source": [
    "### Hall of Fame - Last 15 years"
   ]
  },
  {
   "cell_type": "code",
   "execution_count": 14,
   "metadata": {},
   "outputs": [],
   "source": [
    "hof = tbpy.hall_of_fame()"
   ]
  },
  {
   "cell_type": "code",
   "execution_count": 76,
   "metadata": {},
   "outputs": [
    {
     "data": {
      "text/html": [
       "<style  type=\"text/css\" >\n",
       "    #T_70cfe66c_3b55_11e9_bcdf_fe00ec829601row0_col0 {\n",
       "            background-color:  black;\n",
       "            color:  lawngreen;\n",
       "            border-color:  white;\n",
       "        }    #T_70cfe66c_3b55_11e9_bcdf_fe00ec829601row0_col1 {\n",
       "            background-color:  black;\n",
       "            color:  lawngreen;\n",
       "            border-color:  white;\n",
       "        }    #T_70cfe66c_3b55_11e9_bcdf_fe00ec829601row1_col0 {\n",
       "            background-color:  black;\n",
       "            color:  lawngreen;\n",
       "            border-color:  white;\n",
       "        }    #T_70cfe66c_3b55_11e9_bcdf_fe00ec829601row1_col1 {\n",
       "            background-color:  black;\n",
       "            color:  lawngreen;\n",
       "            border-color:  white;\n",
       "        }    #T_70cfe66c_3b55_11e9_bcdf_fe00ec829601row2_col0 {\n",
       "            background-color:  black;\n",
       "            color:  lawngreen;\n",
       "            border-color:  white;\n",
       "        }    #T_70cfe66c_3b55_11e9_bcdf_fe00ec829601row2_col1 {\n",
       "            background-color:  black;\n",
       "            color:  lawngreen;\n",
       "            border-color:  white;\n",
       "        }    #T_70cfe66c_3b55_11e9_bcdf_fe00ec829601row3_col0 {\n",
       "            background-color:  black;\n",
       "            color:  lawngreen;\n",
       "            border-color:  white;\n",
       "        }    #T_70cfe66c_3b55_11e9_bcdf_fe00ec829601row3_col1 {\n",
       "            background-color:  black;\n",
       "            color:  lawngreen;\n",
       "            border-color:  white;\n",
       "        }    #T_70cfe66c_3b55_11e9_bcdf_fe00ec829601row4_col0 {\n",
       "            background-color:  black;\n",
       "            color:  lawngreen;\n",
       "            border-color:  white;\n",
       "        }    #T_70cfe66c_3b55_11e9_bcdf_fe00ec829601row4_col1 {\n",
       "            background-color:  black;\n",
       "            color:  lawngreen;\n",
       "            border-color:  white;\n",
       "        }    #T_70cfe66c_3b55_11e9_bcdf_fe00ec829601row5_col0 {\n",
       "            background-color:  black;\n",
       "            color:  lawngreen;\n",
       "            border-color:  white;\n",
       "        }    #T_70cfe66c_3b55_11e9_bcdf_fe00ec829601row5_col1 {\n",
       "            background-color:  black;\n",
       "            color:  lawngreen;\n",
       "            border-color:  white;\n",
       "        }    #T_70cfe66c_3b55_11e9_bcdf_fe00ec829601row6_col0 {\n",
       "            background-color:  black;\n",
       "            color:  lawngreen;\n",
       "            border-color:  white;\n",
       "        }    #T_70cfe66c_3b55_11e9_bcdf_fe00ec829601row6_col1 {\n",
       "            background-color:  black;\n",
       "            color:  lawngreen;\n",
       "            border-color:  white;\n",
       "        }    #T_70cfe66c_3b55_11e9_bcdf_fe00ec829601row7_col0 {\n",
       "            background-color:  black;\n",
       "            color:  lawngreen;\n",
       "            border-color:  white;\n",
       "        }    #T_70cfe66c_3b55_11e9_bcdf_fe00ec829601row7_col1 {\n",
       "            background-color:  black;\n",
       "            color:  lawngreen;\n",
       "            border-color:  white;\n",
       "        }    #T_70cfe66c_3b55_11e9_bcdf_fe00ec829601row8_col0 {\n",
       "            background-color:  black;\n",
       "            color:  lawngreen;\n",
       "            border-color:  white;\n",
       "        }    #T_70cfe66c_3b55_11e9_bcdf_fe00ec829601row8_col1 {\n",
       "            background-color:  black;\n",
       "            color:  lawngreen;\n",
       "            border-color:  white;\n",
       "        }    #T_70cfe66c_3b55_11e9_bcdf_fe00ec829601row9_col0 {\n",
       "            background-color:  black;\n",
       "            color:  lawngreen;\n",
       "            border-color:  white;\n",
       "        }    #T_70cfe66c_3b55_11e9_bcdf_fe00ec829601row9_col1 {\n",
       "            background-color:  black;\n",
       "            color:  lawngreen;\n",
       "            border-color:  white;\n",
       "        }    #T_70cfe66c_3b55_11e9_bcdf_fe00ec829601row10_col0 {\n",
       "            background-color:  black;\n",
       "            color:  lawngreen;\n",
       "            border-color:  white;\n",
       "        }    #T_70cfe66c_3b55_11e9_bcdf_fe00ec829601row10_col1 {\n",
       "            background-color:  black;\n",
       "            color:  lawngreen;\n",
       "            border-color:  white;\n",
       "        }    #T_70cfe66c_3b55_11e9_bcdf_fe00ec829601row11_col0 {\n",
       "            background-color:  black;\n",
       "            color:  lawngreen;\n",
       "            border-color:  white;\n",
       "        }    #T_70cfe66c_3b55_11e9_bcdf_fe00ec829601row11_col1 {\n",
       "            background-color:  black;\n",
       "            color:  lawngreen;\n",
       "            border-color:  white;\n",
       "        }    #T_70cfe66c_3b55_11e9_bcdf_fe00ec829601row12_col0 {\n",
       "            background-color:  black;\n",
       "            color:  lawngreen;\n",
       "            border-color:  white;\n",
       "        }    #T_70cfe66c_3b55_11e9_bcdf_fe00ec829601row12_col1 {\n",
       "            background-color:  black;\n",
       "            color:  lawngreen;\n",
       "            border-color:  white;\n",
       "        }    #T_70cfe66c_3b55_11e9_bcdf_fe00ec829601row13_col0 {\n",
       "            background-color:  black;\n",
       "            color:  lawngreen;\n",
       "            border-color:  white;\n",
       "        }    #T_70cfe66c_3b55_11e9_bcdf_fe00ec829601row13_col1 {\n",
       "            background-color:  black;\n",
       "            color:  lawngreen;\n",
       "            border-color:  white;\n",
       "        }    #T_70cfe66c_3b55_11e9_bcdf_fe00ec829601row14_col0 {\n",
       "            background-color:  black;\n",
       "            color:  lawngreen;\n",
       "            border-color:  white;\n",
       "        }    #T_70cfe66c_3b55_11e9_bcdf_fe00ec829601row14_col1 {\n",
       "            background-color:  black;\n",
       "            color:  lawngreen;\n",
       "            border-color:  white;\n",
       "        }    #T_70cfe66c_3b55_11e9_bcdf_fe00ec829601row15_col0 {\n",
       "            background-color:  black;\n",
       "            color:  lawngreen;\n",
       "            border-color:  white;\n",
       "        }    #T_70cfe66c_3b55_11e9_bcdf_fe00ec829601row15_col1 {\n",
       "            background-color:  black;\n",
       "            color:  lawngreen;\n",
       "            border-color:  white;\n",
       "        }</style>  \n",
       "<table id=\"T_70cfe66c_3b55_11e9_bcdf_fe00ec829601\" > \n",
       "<thead>    <tr> \n",
       "        <th class=\"blank level0\" ></th> \n",
       "        <th class=\"col_heading level0 col0\" >Year</th> \n",
       "        <th class=\"col_heading level0 col1\" >Winner</th> \n",
       "    </tr></thead> \n",
       "<tbody>    <tr> \n",
       "        <th id=\"T_70cfe66c_3b55_11e9_bcdf_fe00ec829601level0_row0\" class=\"row_heading level0 row0\" >0</th> \n",
       "        <td id=\"T_70cfe66c_3b55_11e9_bcdf_fe00ec829601row0_col0\" class=\"data row0 col0\" >2018</td> \n",
       "        <td id=\"T_70cfe66c_3b55_11e9_bcdf_fe00ec829601row0_col1\" class=\"data row0 col1\" >Python</td> \n",
       "    </tr>    <tr> \n",
       "        <th id=\"T_70cfe66c_3b55_11e9_bcdf_fe00ec829601level0_row1\" class=\"row_heading level0 row1\" >1</th> \n",
       "        <td id=\"T_70cfe66c_3b55_11e9_bcdf_fe00ec829601row1_col0\" class=\"data row1 col0\" >2017</td> \n",
       "        <td id=\"T_70cfe66c_3b55_11e9_bcdf_fe00ec829601row1_col1\" class=\"data row1 col1\" >C</td> \n",
       "    </tr>    <tr> \n",
       "        <th id=\"T_70cfe66c_3b55_11e9_bcdf_fe00ec829601level0_row2\" class=\"row_heading level0 row2\" >2</th> \n",
       "        <td id=\"T_70cfe66c_3b55_11e9_bcdf_fe00ec829601row2_col0\" class=\"data row2 col0\" >2016</td> \n",
       "        <td id=\"T_70cfe66c_3b55_11e9_bcdf_fe00ec829601row2_col1\" class=\"data row2 col1\" >Go</td> \n",
       "    </tr>    <tr> \n",
       "        <th id=\"T_70cfe66c_3b55_11e9_bcdf_fe00ec829601level0_row3\" class=\"row_heading level0 row3\" >3</th> \n",
       "        <td id=\"T_70cfe66c_3b55_11e9_bcdf_fe00ec829601row3_col0\" class=\"data row3 col0\" >2015</td> \n",
       "        <td id=\"T_70cfe66c_3b55_11e9_bcdf_fe00ec829601row3_col1\" class=\"data row3 col1\" >Java</td> \n",
       "    </tr>    <tr> \n",
       "        <th id=\"T_70cfe66c_3b55_11e9_bcdf_fe00ec829601level0_row4\" class=\"row_heading level0 row4\" >4</th> \n",
       "        <td id=\"T_70cfe66c_3b55_11e9_bcdf_fe00ec829601row4_col0\" class=\"data row4 col0\" >2014</td> \n",
       "        <td id=\"T_70cfe66c_3b55_11e9_bcdf_fe00ec829601row4_col1\" class=\"data row4 col1\" >JavaScript</td> \n",
       "    </tr>    <tr> \n",
       "        <th id=\"T_70cfe66c_3b55_11e9_bcdf_fe00ec829601level0_row5\" class=\"row_heading level0 row5\" >5</th> \n",
       "        <td id=\"T_70cfe66c_3b55_11e9_bcdf_fe00ec829601row5_col0\" class=\"data row5 col0\" >2013</td> \n",
       "        <td id=\"T_70cfe66c_3b55_11e9_bcdf_fe00ec829601row5_col1\" class=\"data row5 col1\" >Transact-SQL</td> \n",
       "    </tr>    <tr> \n",
       "        <th id=\"T_70cfe66c_3b55_11e9_bcdf_fe00ec829601level0_row6\" class=\"row_heading level0 row6\" >6</th> \n",
       "        <td id=\"T_70cfe66c_3b55_11e9_bcdf_fe00ec829601row6_col0\" class=\"data row6 col0\" >2012</td> \n",
       "        <td id=\"T_70cfe66c_3b55_11e9_bcdf_fe00ec829601row6_col1\" class=\"data row6 col1\" >Objective-C</td> \n",
       "    </tr>    <tr> \n",
       "        <th id=\"T_70cfe66c_3b55_11e9_bcdf_fe00ec829601level0_row7\" class=\"row_heading level0 row7\" >7</th> \n",
       "        <td id=\"T_70cfe66c_3b55_11e9_bcdf_fe00ec829601row7_col0\" class=\"data row7 col0\" >2011</td> \n",
       "        <td id=\"T_70cfe66c_3b55_11e9_bcdf_fe00ec829601row7_col1\" class=\"data row7 col1\" >Objective-C</td> \n",
       "    </tr>    <tr> \n",
       "        <th id=\"T_70cfe66c_3b55_11e9_bcdf_fe00ec829601level0_row8\" class=\"row_heading level0 row8\" >8</th> \n",
       "        <td id=\"T_70cfe66c_3b55_11e9_bcdf_fe00ec829601row8_col0\" class=\"data row8 col0\" >2010</td> \n",
       "        <td id=\"T_70cfe66c_3b55_11e9_bcdf_fe00ec829601row8_col1\" class=\"data row8 col1\" >Python</td> \n",
       "    </tr>    <tr> \n",
       "        <th id=\"T_70cfe66c_3b55_11e9_bcdf_fe00ec829601level0_row9\" class=\"row_heading level0 row9\" >9</th> \n",
       "        <td id=\"T_70cfe66c_3b55_11e9_bcdf_fe00ec829601row9_col0\" class=\"data row9 col0\" >2009</td> \n",
       "        <td id=\"T_70cfe66c_3b55_11e9_bcdf_fe00ec829601row9_col1\" class=\"data row9 col1\" >Go</td> \n",
       "    </tr>    <tr> \n",
       "        <th id=\"T_70cfe66c_3b55_11e9_bcdf_fe00ec829601level0_row10\" class=\"row_heading level0 row10\" >10</th> \n",
       "        <td id=\"T_70cfe66c_3b55_11e9_bcdf_fe00ec829601row10_col0\" class=\"data row10 col0\" >2008</td> \n",
       "        <td id=\"T_70cfe66c_3b55_11e9_bcdf_fe00ec829601row10_col1\" class=\"data row10 col1\" >C</td> \n",
       "    </tr>    <tr> \n",
       "        <th id=\"T_70cfe66c_3b55_11e9_bcdf_fe00ec829601level0_row11\" class=\"row_heading level0 row11\" >11</th> \n",
       "        <td id=\"T_70cfe66c_3b55_11e9_bcdf_fe00ec829601row11_col0\" class=\"data row11 col0\" >2007</td> \n",
       "        <td id=\"T_70cfe66c_3b55_11e9_bcdf_fe00ec829601row11_col1\" class=\"data row11 col1\" >Python</td> \n",
       "    </tr>    <tr> \n",
       "        <th id=\"T_70cfe66c_3b55_11e9_bcdf_fe00ec829601level0_row12\" class=\"row_heading level0 row12\" >12</th> \n",
       "        <td id=\"T_70cfe66c_3b55_11e9_bcdf_fe00ec829601row12_col0\" class=\"data row12 col0\" >2006</td> \n",
       "        <td id=\"T_70cfe66c_3b55_11e9_bcdf_fe00ec829601row12_col1\" class=\"data row12 col1\" >Ruby</td> \n",
       "    </tr>    <tr> \n",
       "        <th id=\"T_70cfe66c_3b55_11e9_bcdf_fe00ec829601level0_row13\" class=\"row_heading level0 row13\" >13</th> \n",
       "        <td id=\"T_70cfe66c_3b55_11e9_bcdf_fe00ec829601row13_col0\" class=\"data row13 col0\" >2005</td> \n",
       "        <td id=\"T_70cfe66c_3b55_11e9_bcdf_fe00ec829601row13_col1\" class=\"data row13 col1\" >Java</td> \n",
       "    </tr>    <tr> \n",
       "        <th id=\"T_70cfe66c_3b55_11e9_bcdf_fe00ec829601level0_row14\" class=\"row_heading level0 row14\" >14</th> \n",
       "        <td id=\"T_70cfe66c_3b55_11e9_bcdf_fe00ec829601row14_col0\" class=\"data row14 col0\" >2004</td> \n",
       "        <td id=\"T_70cfe66c_3b55_11e9_bcdf_fe00ec829601row14_col1\" class=\"data row14 col1\" >PHP</td> \n",
       "    </tr>    <tr> \n",
       "        <th id=\"T_70cfe66c_3b55_11e9_bcdf_fe00ec829601level0_row15\" class=\"row_heading level0 row15\" >15</th> \n",
       "        <td id=\"T_70cfe66c_3b55_11e9_bcdf_fe00ec829601row15_col0\" class=\"data row15 col0\" >2003</td> \n",
       "        <td id=\"T_70cfe66c_3b55_11e9_bcdf_fe00ec829601row15_col1\" class=\"data row15 col1\" >C++</td> \n",
       "    </tr></tbody> \n",
       "</table> "
      ],
      "text/plain": [
       "<pandas.io.formats.style.Styler at 0x11ecfacf8>"
      ]
     },
     "execution_count": 76,
     "metadata": {},
     "output_type": "execute_result"
    }
   ],
   "source": [
    "hof.style.set_properties(**{'background-color': 'black',\n",
    "                           'color': 'lawngreen',\n",
    "                           'border-color': 'white'})"
   ]
  }
 ],
 "metadata": {
  "kernelspec": {
   "display_name": "Python 3",
   "language": "python",
   "name": "python3"
  },
  "language_info": {
   "codemirror_mode": {
    "name": "ipython",
    "version": 3
   },
   "file_extension": ".py",
   "mimetype": "text/x-python",
   "name": "python",
   "nbconvert_exporter": "python",
   "pygments_lexer": "ipython3",
   "version": "3.7.0"
  }
 },
 "nbformat": 4,
 "nbformat_minor": 2
}
